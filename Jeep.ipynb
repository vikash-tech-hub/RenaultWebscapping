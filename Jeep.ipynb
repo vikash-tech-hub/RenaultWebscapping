{
  "nbformat": 4,
  "nbformat_minor": 0,
  "metadata": {
    "colab": {
      "provenance": []
    },
    "kernelspec": {
      "name": "python3",
      "display_name": "Python 3"
    },
    "language_info": {
      "name": "python"
    }
  },
  "cells": [
    {
      "cell_type": "code",
      "source": [
        "\n",
        "from bs4 import BeautifulSoup\n",
        "import requests\n",
        "import pandas as pd"
      ],
      "metadata": {
        "id": "Y5uexFB0oeRK"
      },
      "execution_count": 1,
      "outputs": []
    },
    {
      "cell_type": "code",
      "source": [
        "from google.colab import drive\n",
        "drive.mount('/content/drive')"
      ],
      "metadata": {
        "colab": {
          "base_uri": "https://localhost:8080/"
        },
        "id": "ue1NLUKCo3ZD",
        "outputId": "3ec9a19b-f413-427f-f497-0259b6def729"
      },
      "execution_count": null,
      "outputs": [
        {
          "output_type": "stream",
          "name": "stdout",
          "text": [
            "Mounted at /content/drive\n"
          ]
        }
      ]
    },
    {
      "cell_type": "code",
      "source": [
        "url = \"https://www.cars24.com/buy-used-car?f=make%3A%3D%3Ajeep&sort=bestmatch&serveWarrantyCount=true&gaId=502770273.1727883831&search=Jeep&listingSource=Search_LP&storeCityId=2\""
      ],
      "metadata": {
        "id": "KC5h3nKDplOK"
      },
      "execution_count": 2,
      "outputs": []
    },
    {
      "cell_type": "code",
      "source": [
        "response = requests.get(url)"
      ],
      "metadata": {
        "id": "iVlYt5WQqB25"
      },
      "execution_count": 3,
      "outputs": []
    },
    {
      "cell_type": "code",
      "source": [
        "response.status_code"
      ],
      "metadata": {
        "colab": {
          "base_uri": "https://localhost:8080/"
        },
        "id": "fIc3KJ-IqJhn",
        "outputId": "ccda9edd-3554-4820-94eb-f39f372e4342"
      },
      "execution_count": 4,
      "outputs": [
        {
          "output_type": "execute_result",
          "data": {
            "text/plain": [
              "200"
            ]
          },
          "metadata": {},
          "execution_count": 4
        }
      ]
    },
    {
      "cell_type": "code",
      "source": [
        "soup = BeautifulSoup(response.content, 'html.parser')"
      ],
      "metadata": {
        "id": "1jdo-RfvqO0X"
      },
      "execution_count": 5,
      "outputs": []
    },
    {
      "cell_type": "code",
      "source": [
        "result = soup.find_all('div',{'_7jb8Q _1Ey60'})\n",
        "result"
      ],
      "metadata": {
        "colab": {
          "base_uri": "https://localhost:8080/"
        },
        "id": "_b2Lsa5yqRWO",
        "outputId": "788d8747-2c59-409a-d346-d93975a3c8f3"
      },
      "execution_count": 6,
      "outputs": [
        {
          "output_type": "execute_result",
          "data": {
            "text/plain": [
              "[<div class=\"_7jb8Q _1Ey60\"><h3 class=\"_2Out2\">2020 Jeep Compass<!-- --> <span>SPORT PLUS 1.4 PETROL</span></h3><ul class=\"_3jRcd\"><li class=\"_2Fm8o\">Alloy wheels</li><li>76,041 km</li><li>Petrol</li><li>1st owner</li></ul><div class=\"_1Oul-\"><span class=\"_1t1AA\"> <!-- -->EMI from ₹20,269/m</span></div><div class=\"_1Oul- VMjdr\"><strong class=\"_37WXy\">₹10.65L</strong><span class=\"_3hb01\">₹12.40L</span></div> <div class=\"NH4Dw\"></div><p class=\"_2rxhF\">Free Test Drive <!-- -->Today<!-- --> <span> <!-- -->at<!-- --> <!-- -->M3M Urbana, Golf Course Ext., Gurugram<!-- --> </span></p></div>,\n",
              " <div class=\"_7jb8Q _1Ey60\"><h3 class=\"_2Out2\">2018 Jeep Compass<!-- --> <span>LIMITED (O) 2.0 DIESEL 4X4</span></h3><ul class=\"_3jRcd\"><li class=\"_2Fm8o\">Top Model</li><li>53,738 km</li><li>Diesel</li><li>2nd owner</li></ul><div class=\"_1Oul-\"><span class=\"_1t1AA\"> <!-- -->EMI from ₹25,026/m</span></div><div class=\"_1Oul- VMjdr\"><strong class=\"_37WXy\">₹9.68L</strong></div> <div class=\"NH4Dw\"></div><p class=\"_2rxhF\">Free Test Drive <!-- -->Today<!-- --> <span> <!-- -->at<!-- --> <!-- -->M3M Urbana, Golf Course Ext., Gurugram<!-- --> </span></p></div>,\n",
              " <div class=\"_7jb8Q _1Ey60\"><h3 class=\"_2Out2\">2019 Jeep Compass<!-- --> <span>SPORT 2.0 DIESEL</span></h3><ul class=\"_3jRcd\"><li class=\"_2Fm8o\">Spl. reg. no.</li><li>93,467 km</li><li>Diesel</li><li>1st owner</li></ul><div class=\"_1Oul-\"><span class=\"_1t1AA\"> <!-- -->EMI from ₹20,227/m</span></div><div class=\"_1Oul- VMjdr\"><strong class=\"_37WXy\">₹9.30L</strong><span class=\"_3hb01\">₹11.51L</span></div> <div class=\"NH4Dw\"></div><p class=\"_2rxhF\">Free Test Drive <!-- -->Today<!-- --> <span> <!-- -->at<!-- --> <!-- -->Chhatarpur, Delhi<!-- --> </span></p></div>,\n",
              " <div class=\"_7jb8Q _1Ey60\"><h3 class=\"_2Out2\">2019 Jeep Compass<!-- --> <span>LONGITUDE (O) 2.0 DIESEL</span></h3><ul class=\"_3jRcd\"><li class=\"_2Fm8o\">Alloy wheels</li><li>87,927 km</li><li>Diesel</li><li>1st owner</li></ul><div class=\"_1Oul-\"><span class=\"_1t1AA\"> <!-- -->EMI from ₹22,525/m</span></div><div class=\"_1Oul- VMjdr\"><strong class=\"_37WXy\">₹10.36L</strong><span class=\"_3hb01\">₹13.85L</span></div> <div class=\"NH4Dw\"></div><p class=\"_2rxhF\">Free Test Drive <!-- -->Today<!-- --> <span> <!-- -->at<!-- --> <!-- -->Chhatarpur, Delhi<!-- --> </span></p></div>,\n",
              " <div class=\"_7jb8Q _1Ey60\"><h3 class=\"_2Out2\">2019 Jeep Compass<!-- --> <span>SPORT PLUS 1.4 PETROL</span></h3><ul class=\"_3jRcd\"><li class=\"_2Fm8o\">Alloy wheels</li><li>59,431 km</li><li>Petrol</li><li>1st owner</li></ul><div class=\"_1Oul-\"><span class=\"_1t1AA\"> <!-- -->EMI from ₹21,877/m</span></div><div class=\"_1Oul- VMjdr\"><strong class=\"_37WXy\">₹11.49L</strong><span class=\"_3hb01\">₹12.21L</span></div> <div class=\"NH4Dw\"></div><p class=\"_2rxhF\">Free Test Drive <!-- -->Today<!-- --> <span> <!-- -->at<!-- --> <!-- -->Metro Walk, Rohini, New Delhi<!-- --> </span></p></div>,\n",
              " <div class=\"_7jb8Q _1Ey60\"><h3 class=\"_2Out2\">2019 Jeep Compass<!-- --> <span>LIMITED PLUS DIESEL 4X4</span></h3><ul class=\"_3jRcd\"><li class=\"_2Fm8o\">Sunroof</li><li>36,398 km</li><li>Diesel</li><li>1st owner</li></ul><div class=\"_1Oul-\"><span class=\"_1t1AA\"> <!-- -->EMI from ₹29,511/m</span></div><div class=\"_1Oul- VMjdr\"><strong class=\"_37WXy\">₹13.57L</strong><span class=\"_3hb01\">₹16.58L</span></div> <div class=\"NH4Dw\"></div><p class=\"_2rxhF\">Free Test Drive <!-- -->Today<!-- --> <span> <!-- -->at<!-- --> <!-- -->M3M Urbana, Golf Course Ext., Gurugram<!-- --> </span></p></div>,\n",
              " <div class=\"_7jb8Q _1Ey60\"><h3 class=\"_2Out2\">2019 Jeep Compass<!-- --> <span>SPORT PLUS 2.0 DIESEL</span></h3><ul class=\"_3jRcd\"><li class=\"_2Fm8o\">Alloy wheels</li><li>45,323 km</li><li>Diesel</li><li>1st owner</li></ul><div class=\"_1Oul-\"><span class=\"_1t1AA\"> <!-- -->EMI from ₹21,612/m</span></div><div class=\"_1Oul- VMjdr\"><strong class=\"_37WXy\">₹9.94L</strong><span class=\"_3hb01\">₹12.90L</span></div> <div class=\"NH4Dw\"></div><p class=\"_2rxhF\">Free Test Drive <!-- -->Today<!-- --> <span> <!-- -->at<!-- --> <!-- -->KW Delhi 6, Raj Nagar Extension, Ghaziabad<!-- --> </span></p></div>]"
            ]
          },
          "metadata": {},
          "execution_count": 6
        }
      ]
    },
    {
      "cell_type": "code",
      "source": [
        "result[0]"
      ],
      "metadata": {
        "colab": {
          "base_uri": "https://localhost:8080/"
        },
        "id": "LF56R2lrqet-",
        "outputId": "2f83f553-aed8-4419-ffb9-ed2f6674c709"
      },
      "execution_count": 7,
      "outputs": [
        {
          "output_type": "execute_result",
          "data": {
            "text/plain": [
              "<div class=\"_7jb8Q _1Ey60\"><h3 class=\"_2Out2\">2020 Jeep Compass<!-- --> <span>SPORT PLUS 1.4 PETROL</span></h3><ul class=\"_3jRcd\"><li class=\"_2Fm8o\">Alloy wheels</li><li>76,041 km</li><li>Petrol</li><li>1st owner</li></ul><div class=\"_1Oul-\"><span class=\"_1t1AA\"> <!-- -->EMI from ₹20,269/m</span></div><div class=\"_1Oul- VMjdr\"><strong class=\"_37WXy\">₹10.65L</strong><span class=\"_3hb01\">₹12.40L</span></div> <div class=\"NH4Dw\"></div><p class=\"_2rxhF\">Free Test Drive <!-- -->Today<!-- --> <span> <!-- -->at<!-- --> <!-- -->M3M Urbana, Golf Course Ext., Gurugram<!-- --> </span></p></div>"
            ]
          },
          "metadata": {},
          "execution_count": 7
        }
      ]
    },
    {
      "cell_type": "code",
      "source": [
        "lst_of_car = []\n",
        "\n",
        "for i in range(len(result)):\n",
        "    text = result[i].find('h3',{'_2Out2'}).get_text()\n",
        "    lst_of_car.append(text)\n",
        "\n",
        "lst_of_car"
      ],
      "metadata": {
        "colab": {
          "base_uri": "https://localhost:8080/"
        },
        "id": "9HleWUEIqo4O",
        "outputId": "a97d6908-df29-4616-bf7f-5a930a73cfb1"
      },
      "execution_count": 8,
      "outputs": [
        {
          "output_type": "execute_result",
          "data": {
            "text/plain": [
              "['2020 Jeep Compass SPORT PLUS 1.4 PETROL',\n",
              " '2018 Jeep Compass LIMITED (O) 2.0 DIESEL 4X4',\n",
              " '2019 Jeep Compass SPORT 2.0 DIESEL',\n",
              " '2019 Jeep Compass LONGITUDE (O) 2.0 DIESEL',\n",
              " '2019 Jeep Compass SPORT PLUS 1.4 PETROL',\n",
              " '2019 Jeep Compass LIMITED PLUS DIESEL 4X4',\n",
              " '2019 Jeep Compass SPORT PLUS 2.0 DIESEL']"
            ]
          },
          "metadata": {},
          "execution_count": 8
        }
      ]
    },
    {
      "cell_type": "code",
      "source": [
        "lst_of_price = []\n",
        "\n",
        "for i in range(len(result)):\n",
        "    price = result[i].find('strong',{'_37WXy'}).get_text()\n",
        "    lst_of_price.append(price)\n",
        "\n",
        "lst_of_price"
      ],
      "metadata": {
        "colab": {
          "base_uri": "https://localhost:8080/"
        },
        "id": "86s7sDdsqvO2",
        "outputId": "9a9549ed-88b7-4bd0-8965-b30d42d1e234"
      },
      "execution_count": 9,
      "outputs": [
        {
          "output_type": "execute_result",
          "data": {
            "text/plain": [
              "['₹10.65L', '₹9.68L', '₹9.30L', '₹10.36L', '₹11.49L', '₹13.57L', '₹9.94L']"
            ]
          },
          "metadata": {},
          "execution_count": 9
        }
      ]
    },
    {
      "cell_type": "code",
      "source": [
        "lst_of_details = []\n",
        "\n",
        "for i in range(len(result)):\n",
        "    detail = result[i].find('ul',{'_3jRcd'}).get_text()\n",
        "    lst_of_details.append(detail)\n",
        "\n",
        "\n",
        "lst_of_details"
      ],
      "metadata": {
        "colab": {
          "base_uri": "https://localhost:8080/"
        },
        "id": "T1-ka-Wrq5Pt",
        "outputId": "49d0804f-c89b-47fd-be2d-3c414329f3e4"
      },
      "execution_count": 10,
      "outputs": [
        {
          "output_type": "execute_result",
          "data": {
            "text/plain": [
              "['Alloy wheels76,041 kmPetrol1st owner',\n",
              " 'Top Model53,738 kmDiesel2nd owner',\n",
              " 'Spl. reg. no.93,467 kmDiesel1st owner',\n",
              " 'Alloy wheels87,927 kmDiesel1st owner',\n",
              " 'Alloy wheels59,431 kmPetrol1st owner',\n",
              " 'Sunroof36,398 kmDiesel1st owner',\n",
              " 'Alloy wheels45,323 kmDiesel1st owner']"
            ]
          },
          "metadata": {},
          "execution_count": 10
        }
      ]
    },
    {
      "cell_type": "code",
      "source": [
        "Jeep_dict = {\n",
        "    'Make' : 'Jeep',\n",
        "    'location' : 'Mumbai',\n",
        "    'Name' : lst_of_car,\n",
        "    'Details' : lst_of_details,\n",
        "    'Price' : lst_of_price\n",
        "}"
      ],
      "metadata": {
        "id": "iW7HjJ4lq_p-"
      },
      "execution_count": 13,
      "outputs": []
    },
    {
      "cell_type": "code",
      "source": [
        "df = pd.DataFrame(Jeep_dict)\n",
        "display(df)"
      ],
      "metadata": {
        "colab": {
          "base_uri": "https://localhost:8080/",
          "height": 269
        },
        "id": "an5QM9FsrFD1",
        "outputId": "2587c3af-82c1-44d8-8b7e-d969b7260033"
      },
      "execution_count": 14,
      "outputs": [
        {
          "output_type": "display_data",
          "data": {
            "text/plain": [
              "   Make location                                          Name  \\\n",
              "0  Jeep   Mumbai       2020 Jeep Compass SPORT PLUS 1.4 PETROL   \n",
              "1  Jeep   Mumbai  2018 Jeep Compass LIMITED (O) 2.0 DIESEL 4X4   \n",
              "2  Jeep   Mumbai            2019 Jeep Compass SPORT 2.0 DIESEL   \n",
              "3  Jeep   Mumbai    2019 Jeep Compass LONGITUDE (O) 2.0 DIESEL   \n",
              "4  Jeep   Mumbai       2019 Jeep Compass SPORT PLUS 1.4 PETROL   \n",
              "5  Jeep   Mumbai     2019 Jeep Compass LIMITED PLUS DIESEL 4X4   \n",
              "6  Jeep   Mumbai       2019 Jeep Compass SPORT PLUS 2.0 DIESEL   \n",
              "\n",
              "                                 Details    Price  \n",
              "0   Alloy wheels76,041 kmPetrol1st owner  ₹10.65L  \n",
              "1      Top Model53,738 kmDiesel2nd owner   ₹9.68L  \n",
              "2  Spl. reg. no.93,467 kmDiesel1st owner   ₹9.30L  \n",
              "3   Alloy wheels87,927 kmDiesel1st owner  ₹10.36L  \n",
              "4   Alloy wheels59,431 kmPetrol1st owner  ₹11.49L  \n",
              "5        Sunroof36,398 kmDiesel1st owner  ₹13.57L  \n",
              "6   Alloy wheels45,323 kmDiesel1st owner   ₹9.94L  "
            ],
            "text/html": [
              "\n",
              "  <div id=\"df-0ec3f59a-fc72-4d73-ae4c-16acb3bffcd9\" class=\"colab-df-container\">\n",
              "    <div>\n",
              "<style scoped>\n",
              "    .dataframe tbody tr th:only-of-type {\n",
              "        vertical-align: middle;\n",
              "    }\n",
              "\n",
              "    .dataframe tbody tr th {\n",
              "        vertical-align: top;\n",
              "    }\n",
              "\n",
              "    .dataframe thead th {\n",
              "        text-align: right;\n",
              "    }\n",
              "</style>\n",
              "<table border=\"1\" class=\"dataframe\">\n",
              "  <thead>\n",
              "    <tr style=\"text-align: right;\">\n",
              "      <th></th>\n",
              "      <th>Make</th>\n",
              "      <th>location</th>\n",
              "      <th>Name</th>\n",
              "      <th>Details</th>\n",
              "      <th>Price</th>\n",
              "    </tr>\n",
              "  </thead>\n",
              "  <tbody>\n",
              "    <tr>\n",
              "      <th>0</th>\n",
              "      <td>Jeep</td>\n",
              "      <td>Mumbai</td>\n",
              "      <td>2020 Jeep Compass SPORT PLUS 1.4 PETROL</td>\n",
              "      <td>Alloy wheels76,041 kmPetrol1st owner</td>\n",
              "      <td>₹10.65L</td>\n",
              "    </tr>\n",
              "    <tr>\n",
              "      <th>1</th>\n",
              "      <td>Jeep</td>\n",
              "      <td>Mumbai</td>\n",
              "      <td>2018 Jeep Compass LIMITED (O) 2.0 DIESEL 4X4</td>\n",
              "      <td>Top Model53,738 kmDiesel2nd owner</td>\n",
              "      <td>₹9.68L</td>\n",
              "    </tr>\n",
              "    <tr>\n",
              "      <th>2</th>\n",
              "      <td>Jeep</td>\n",
              "      <td>Mumbai</td>\n",
              "      <td>2019 Jeep Compass SPORT 2.0 DIESEL</td>\n",
              "      <td>Spl. reg. no.93,467 kmDiesel1st owner</td>\n",
              "      <td>₹9.30L</td>\n",
              "    </tr>\n",
              "    <tr>\n",
              "      <th>3</th>\n",
              "      <td>Jeep</td>\n",
              "      <td>Mumbai</td>\n",
              "      <td>2019 Jeep Compass LONGITUDE (O) 2.0 DIESEL</td>\n",
              "      <td>Alloy wheels87,927 kmDiesel1st owner</td>\n",
              "      <td>₹10.36L</td>\n",
              "    </tr>\n",
              "    <tr>\n",
              "      <th>4</th>\n",
              "      <td>Jeep</td>\n",
              "      <td>Mumbai</td>\n",
              "      <td>2019 Jeep Compass SPORT PLUS 1.4 PETROL</td>\n",
              "      <td>Alloy wheels59,431 kmPetrol1st owner</td>\n",
              "      <td>₹11.49L</td>\n",
              "    </tr>\n",
              "    <tr>\n",
              "      <th>5</th>\n",
              "      <td>Jeep</td>\n",
              "      <td>Mumbai</td>\n",
              "      <td>2019 Jeep Compass LIMITED PLUS DIESEL 4X4</td>\n",
              "      <td>Sunroof36,398 kmDiesel1st owner</td>\n",
              "      <td>₹13.57L</td>\n",
              "    </tr>\n",
              "    <tr>\n",
              "      <th>6</th>\n",
              "      <td>Jeep</td>\n",
              "      <td>Mumbai</td>\n",
              "      <td>2019 Jeep Compass SPORT PLUS 2.0 DIESEL</td>\n",
              "      <td>Alloy wheels45,323 kmDiesel1st owner</td>\n",
              "      <td>₹9.94L</td>\n",
              "    </tr>\n",
              "  </tbody>\n",
              "</table>\n",
              "</div>\n",
              "    <div class=\"colab-df-buttons\">\n",
              "\n",
              "  <div class=\"colab-df-container\">\n",
              "    <button class=\"colab-df-convert\" onclick=\"convertToInteractive('df-0ec3f59a-fc72-4d73-ae4c-16acb3bffcd9')\"\n",
              "            title=\"Convert this dataframe to an interactive table.\"\n",
              "            style=\"display:none;\">\n",
              "\n",
              "  <svg xmlns=\"http://www.w3.org/2000/svg\" height=\"24px\" viewBox=\"0 -960 960 960\">\n",
              "    <path d=\"M120-120v-720h720v720H120Zm60-500h600v-160H180v160Zm220 220h160v-160H400v160Zm0 220h160v-160H400v160ZM180-400h160v-160H180v160Zm440 0h160v-160H620v160ZM180-180h160v-160H180v160Zm440 0h160v-160H620v160Z\"/>\n",
              "  </svg>\n",
              "    </button>\n",
              "\n",
              "  <style>\n",
              "    .colab-df-container {\n",
              "      display:flex;\n",
              "      gap: 12px;\n",
              "    }\n",
              "\n",
              "    .colab-df-convert {\n",
              "      background-color: #E8F0FE;\n",
              "      border: none;\n",
              "      border-radius: 50%;\n",
              "      cursor: pointer;\n",
              "      display: none;\n",
              "      fill: #1967D2;\n",
              "      height: 32px;\n",
              "      padding: 0 0 0 0;\n",
              "      width: 32px;\n",
              "    }\n",
              "\n",
              "    .colab-df-convert:hover {\n",
              "      background-color: #E2EBFA;\n",
              "      box-shadow: 0px 1px 2px rgba(60, 64, 67, 0.3), 0px 1px 3px 1px rgba(60, 64, 67, 0.15);\n",
              "      fill: #174EA6;\n",
              "    }\n",
              "\n",
              "    .colab-df-buttons div {\n",
              "      margin-bottom: 4px;\n",
              "    }\n",
              "\n",
              "    [theme=dark] .colab-df-convert {\n",
              "      background-color: #3B4455;\n",
              "      fill: #D2E3FC;\n",
              "    }\n",
              "\n",
              "    [theme=dark] .colab-df-convert:hover {\n",
              "      background-color: #434B5C;\n",
              "      box-shadow: 0px 1px 3px 1px rgba(0, 0, 0, 0.15);\n",
              "      filter: drop-shadow(0px 1px 2px rgba(0, 0, 0, 0.3));\n",
              "      fill: #FFFFFF;\n",
              "    }\n",
              "  </style>\n",
              "\n",
              "    <script>\n",
              "      const buttonEl =\n",
              "        document.querySelector('#df-0ec3f59a-fc72-4d73-ae4c-16acb3bffcd9 button.colab-df-convert');\n",
              "      buttonEl.style.display =\n",
              "        google.colab.kernel.accessAllowed ? 'block' : 'none';\n",
              "\n",
              "      async function convertToInteractive(key) {\n",
              "        const element = document.querySelector('#df-0ec3f59a-fc72-4d73-ae4c-16acb3bffcd9');\n",
              "        const dataTable =\n",
              "          await google.colab.kernel.invokeFunction('convertToInteractive',\n",
              "                                                    [key], {});\n",
              "        if (!dataTable) return;\n",
              "\n",
              "        const docLinkHtml = 'Like what you see? Visit the ' +\n",
              "          '<a target=\"_blank\" href=https://colab.research.google.com/notebooks/data_table.ipynb>data table notebook</a>'\n",
              "          + ' to learn more about interactive tables.';\n",
              "        element.innerHTML = '';\n",
              "        dataTable['output_type'] = 'display_data';\n",
              "        await google.colab.output.renderOutput(dataTable, element);\n",
              "        const docLink = document.createElement('div');\n",
              "        docLink.innerHTML = docLinkHtml;\n",
              "        element.appendChild(docLink);\n",
              "      }\n",
              "    </script>\n",
              "  </div>\n",
              "\n",
              "\n",
              "<div id=\"df-16599205-8790-4d70-988a-a3a5ce880cae\">\n",
              "  <button class=\"colab-df-quickchart\" onclick=\"quickchart('df-16599205-8790-4d70-988a-a3a5ce880cae')\"\n",
              "            title=\"Suggest charts\"\n",
              "            style=\"display:none;\">\n",
              "\n",
              "<svg xmlns=\"http://www.w3.org/2000/svg\" height=\"24px\"viewBox=\"0 0 24 24\"\n",
              "     width=\"24px\">\n",
              "    <g>\n",
              "        <path d=\"M19 3H5c-1.1 0-2 .9-2 2v14c0 1.1.9 2 2 2h14c1.1 0 2-.9 2-2V5c0-1.1-.9-2-2-2zM9 17H7v-7h2v7zm4 0h-2V7h2v10zm4 0h-2v-4h2v4z\"/>\n",
              "    </g>\n",
              "</svg>\n",
              "  </button>\n",
              "\n",
              "<style>\n",
              "  .colab-df-quickchart {\n",
              "      --bg-color: #E8F0FE;\n",
              "      --fill-color: #1967D2;\n",
              "      --hover-bg-color: #E2EBFA;\n",
              "      --hover-fill-color: #174EA6;\n",
              "      --disabled-fill-color: #AAA;\n",
              "      --disabled-bg-color: #DDD;\n",
              "  }\n",
              "\n",
              "  [theme=dark] .colab-df-quickchart {\n",
              "      --bg-color: #3B4455;\n",
              "      --fill-color: #D2E3FC;\n",
              "      --hover-bg-color: #434B5C;\n",
              "      --hover-fill-color: #FFFFFF;\n",
              "      --disabled-bg-color: #3B4455;\n",
              "      --disabled-fill-color: #666;\n",
              "  }\n",
              "\n",
              "  .colab-df-quickchart {\n",
              "    background-color: var(--bg-color);\n",
              "    border: none;\n",
              "    border-radius: 50%;\n",
              "    cursor: pointer;\n",
              "    display: none;\n",
              "    fill: var(--fill-color);\n",
              "    height: 32px;\n",
              "    padding: 0;\n",
              "    width: 32px;\n",
              "  }\n",
              "\n",
              "  .colab-df-quickchart:hover {\n",
              "    background-color: var(--hover-bg-color);\n",
              "    box-shadow: 0 1px 2px rgba(60, 64, 67, 0.3), 0 1px 3px 1px rgba(60, 64, 67, 0.15);\n",
              "    fill: var(--button-hover-fill-color);\n",
              "  }\n",
              "\n",
              "  .colab-df-quickchart-complete:disabled,\n",
              "  .colab-df-quickchart-complete:disabled:hover {\n",
              "    background-color: var(--disabled-bg-color);\n",
              "    fill: var(--disabled-fill-color);\n",
              "    box-shadow: none;\n",
              "  }\n",
              "\n",
              "  .colab-df-spinner {\n",
              "    border: 2px solid var(--fill-color);\n",
              "    border-color: transparent;\n",
              "    border-bottom-color: var(--fill-color);\n",
              "    animation:\n",
              "      spin 1s steps(1) infinite;\n",
              "  }\n",
              "\n",
              "  @keyframes spin {\n",
              "    0% {\n",
              "      border-color: transparent;\n",
              "      border-bottom-color: var(--fill-color);\n",
              "      border-left-color: var(--fill-color);\n",
              "    }\n",
              "    20% {\n",
              "      border-color: transparent;\n",
              "      border-left-color: var(--fill-color);\n",
              "      border-top-color: var(--fill-color);\n",
              "    }\n",
              "    30% {\n",
              "      border-color: transparent;\n",
              "      border-left-color: var(--fill-color);\n",
              "      border-top-color: var(--fill-color);\n",
              "      border-right-color: var(--fill-color);\n",
              "    }\n",
              "    40% {\n",
              "      border-color: transparent;\n",
              "      border-right-color: var(--fill-color);\n",
              "      border-top-color: var(--fill-color);\n",
              "    }\n",
              "    60% {\n",
              "      border-color: transparent;\n",
              "      border-right-color: var(--fill-color);\n",
              "    }\n",
              "    80% {\n",
              "      border-color: transparent;\n",
              "      border-right-color: var(--fill-color);\n",
              "      border-bottom-color: var(--fill-color);\n",
              "    }\n",
              "    90% {\n",
              "      border-color: transparent;\n",
              "      border-bottom-color: var(--fill-color);\n",
              "    }\n",
              "  }\n",
              "</style>\n",
              "\n",
              "  <script>\n",
              "    async function quickchart(key) {\n",
              "      const quickchartButtonEl =\n",
              "        document.querySelector('#' + key + ' button');\n",
              "      quickchartButtonEl.disabled = true;  // To prevent multiple clicks.\n",
              "      quickchartButtonEl.classList.add('colab-df-spinner');\n",
              "      try {\n",
              "        const charts = await google.colab.kernel.invokeFunction(\n",
              "            'suggestCharts', [key], {});\n",
              "      } catch (error) {\n",
              "        console.error('Error during call to suggestCharts:', error);\n",
              "      }\n",
              "      quickchartButtonEl.classList.remove('colab-df-spinner');\n",
              "      quickchartButtonEl.classList.add('colab-df-quickchart-complete');\n",
              "    }\n",
              "    (() => {\n",
              "      let quickchartButtonEl =\n",
              "        document.querySelector('#df-16599205-8790-4d70-988a-a3a5ce880cae button');\n",
              "      quickchartButtonEl.style.display =\n",
              "        google.colab.kernel.accessAllowed ? 'block' : 'none';\n",
              "    })();\n",
              "  </script>\n",
              "</div>\n",
              "\n",
              "  <div id=\"id_80496280-a6af-46d2-a01e-52c5e1f34183\">\n",
              "    <style>\n",
              "      .colab-df-generate {\n",
              "        background-color: #E8F0FE;\n",
              "        border: none;\n",
              "        border-radius: 50%;\n",
              "        cursor: pointer;\n",
              "        display: none;\n",
              "        fill: #1967D2;\n",
              "        height: 32px;\n",
              "        padding: 0 0 0 0;\n",
              "        width: 32px;\n",
              "      }\n",
              "\n",
              "      .colab-df-generate:hover {\n",
              "        background-color: #E2EBFA;\n",
              "        box-shadow: 0px 1px 2px rgba(60, 64, 67, 0.3), 0px 1px 3px 1px rgba(60, 64, 67, 0.15);\n",
              "        fill: #174EA6;\n",
              "      }\n",
              "\n",
              "      [theme=dark] .colab-df-generate {\n",
              "        background-color: #3B4455;\n",
              "        fill: #D2E3FC;\n",
              "      }\n",
              "\n",
              "      [theme=dark] .colab-df-generate:hover {\n",
              "        background-color: #434B5C;\n",
              "        box-shadow: 0px 1px 3px 1px rgba(0, 0, 0, 0.15);\n",
              "        filter: drop-shadow(0px 1px 2px rgba(0, 0, 0, 0.3));\n",
              "        fill: #FFFFFF;\n",
              "      }\n",
              "    </style>\n",
              "    <button class=\"colab-df-generate\" onclick=\"generateWithVariable('df')\"\n",
              "            title=\"Generate code using this dataframe.\"\n",
              "            style=\"display:none;\">\n",
              "\n",
              "  <svg xmlns=\"http://www.w3.org/2000/svg\" height=\"24px\"viewBox=\"0 0 24 24\"\n",
              "       width=\"24px\">\n",
              "    <path d=\"M7,19H8.4L18.45,9,17,7.55,7,17.6ZM5,21V16.75L18.45,3.32a2,2,0,0,1,2.83,0l1.4,1.43a1.91,1.91,0,0,1,.58,1.4,1.91,1.91,0,0,1-.58,1.4L9.25,21ZM18.45,9,17,7.55Zm-12,3A5.31,5.31,0,0,0,4.9,8.1,5.31,5.31,0,0,0,1,6.5,5.31,5.31,0,0,0,4.9,4.9,5.31,5.31,0,0,0,6.5,1,5.31,5.31,0,0,0,8.1,4.9,5.31,5.31,0,0,0,12,6.5,5.46,5.46,0,0,0,6.5,12Z\"/>\n",
              "  </svg>\n",
              "    </button>\n",
              "    <script>\n",
              "      (() => {\n",
              "      const buttonEl =\n",
              "        document.querySelector('#id_80496280-a6af-46d2-a01e-52c5e1f34183 button.colab-df-generate');\n",
              "      buttonEl.style.display =\n",
              "        google.colab.kernel.accessAllowed ? 'block' : 'none';\n",
              "\n",
              "      buttonEl.onclick = () => {\n",
              "        google.colab.notebook.generateWithVariable('df');\n",
              "      }\n",
              "      })();\n",
              "    </script>\n",
              "  </div>\n",
              "\n",
              "    </div>\n",
              "  </div>\n"
            ],
            "application/vnd.google.colaboratory.intrinsic+json": {
              "type": "dataframe",
              "variable_name": "df",
              "summary": "{\n  \"name\": \"df\",\n  \"rows\": 7,\n  \"fields\": [\n    {\n      \"column\": \"Make\",\n      \"properties\": {\n        \"dtype\": \"category\",\n        \"num_unique_values\": 1,\n        \"samples\": [\n          \"Jeep\"\n        ],\n        \"semantic_type\": \"\",\n        \"description\": \"\"\n      }\n    },\n    {\n      \"column\": \"location\",\n      \"properties\": {\n        \"dtype\": \"category\",\n        \"num_unique_values\": 1,\n        \"samples\": [\n          \"Mumbai\"\n        ],\n        \"semantic_type\": \"\",\n        \"description\": \"\"\n      }\n    },\n    {\n      \"column\": \"Name\",\n      \"properties\": {\n        \"dtype\": \"string\",\n        \"num_unique_values\": 7,\n        \"samples\": [\n          \"2020 Jeep Compass SPORT PLUS 1.4 PETROL\"\n        ],\n        \"semantic_type\": \"\",\n        \"description\": \"\"\n      }\n    },\n    {\n      \"column\": \"Details\",\n      \"properties\": {\n        \"dtype\": \"string\",\n        \"num_unique_values\": 7,\n        \"samples\": [\n          \"Alloy wheels76,041 kmPetrol1st owner\"\n        ],\n        \"semantic_type\": \"\",\n        \"description\": \"\"\n      }\n    },\n    {\n      \"column\": \"Price\",\n      \"properties\": {\n        \"dtype\": \"string\",\n        \"num_unique_values\": 7,\n        \"samples\": [\n          \"\\u20b910.65L\"\n        ],\n        \"semantic_type\": \"\",\n        \"description\": \"\"\n      }\n    }\n  ]\n}"
            }
          },
          "metadata": {}
        }
      ]
    },
    {
      "cell_type": "code",
      "source": [],
      "metadata": {
        "id": "XFbTbEHVrjoW"
      },
      "execution_count": null,
      "outputs": []
    }
  ]
}